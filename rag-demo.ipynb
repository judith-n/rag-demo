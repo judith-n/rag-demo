{
 "cells": [
  {
   "cell_type": "markdown",
   "id": "f155930e-18c3-4927-8920-7fb4919b84e9",
   "metadata": {
    "editable": true,
    "slideshow": {
     "slide_type": ""
    },
    "tags": []
   },
   "source": [
    "Load data and split into chunks"
   ]
  },
  {
   "cell_type": "code",
   "execution_count": 1,
   "id": "0178a9c8-a860-4eae-921c-54d2c2f4a3a8",
   "metadata": {
    "editable": true,
    "slideshow": {
     "slide_type": ""
    },
    "tags": []
   },
   "outputs": [],
   "source": [
    "import os\n",
    "from langchain_community.document_loaders import PyMuPDFLoader\n",
    "from langchain_text_splitters import RecursiveCharacterTextSplitter\n",
    "\n",
    "pdf_folder_path = \"data_files\"\n",
    "documents_list = []\n",
    "for file in os.listdir(pdf_folder_path):\n",
    "    if file.endswith('.pdf'):\n",
    "        pdf_path = os.path.join(pdf_folder_path, file)\n",
    "        loader = PyMuPDFLoader(pdf_path)\n",
    "        documents_list.extend(loader.load())\n",
    "text_splitter = RecursiveCharacterTextSplitter(chunk_size=1000, chunk_overlap=10)\n",
    "documents = text_splitter.split_documents(documents_list)"
   ]
  },
  {
   "cell_type": "code",
   "execution_count": null,
   "id": "0244409c-314f-4d85-b8fe-f501462c3585",
   "metadata": {},
   "outputs": [],
   "source": [
    "print(\"Number of chunks created: \", len(documents))"
   ]
  },
  {
   "cell_type": "markdown",
   "id": "28272a18-fb18-4dd7-99f3-0a1dc0508140",
   "metadata": {},
   "source": [
    "Create embeddings and store them in vector database"
   ]
  },
  {
   "cell_type": "code",
   "execution_count": 3,
   "id": "bd0978ff-dabc-4610-9b6f-1345001ad92c",
   "metadata": {},
   "outputs": [],
   "source": [
    "from langchain_community.vectorstores import FAISS\n",
    "from langchain_ollama import OllamaEmbeddings\n",
    "\n",
    "# Instantiate the embedding model\n",
    "embedder = OllamaEmbeddings(\n",
    "    model=\"nomic-embed-text\"\n",
    ")\n",
    "# Create the vector store \n",
    "vector = FAISS.from_documents(documents, embedder)"
   ]
  },
  {
   "cell_type": "markdown",
   "id": "a5f1ce40-ebc0-4865-a467-e78a682f7d29",
   "metadata": {},
   "source": [
    "Retrieve data"
   ]
  },
  {
   "cell_type": "code",
   "execution_count": null,
   "id": "8094eb89-9c52-405e-b2f7-16162f9a8e73",
   "metadata": {},
   "outputs": [],
   "source": [
    "retriever = vector.as_retriever(search_type=\"similarity\", search_kwargs={\"k\": 3})\n",
    "retrieved_docs = retriever.invoke(\"How do I order a multisport card for my child?\")\n",
    "print(retrieved_docs)"
   ]
  },
  {
   "cell_type": "markdown",
   "id": "84d99e51-bcb9-462d-8d4b-76fef5b7c29f",
   "metadata": {},
   "source": [
    "Setup LLM model"
   ]
  },
  {
   "cell_type": "code",
   "execution_count": 25,
   "id": "7016a524-8dd2-43da-815a-cd41732f235c",
   "metadata": {
    "scrolled": true
   },
   "outputs": [],
   "source": [
    "from langchain_ollama import OllamaLLM\n",
    "\n",
    "llm = OllamaLLM(model=\"gemma2:2b\")"
   ]
  },
  {
   "cell_type": "markdown",
   "id": "1a5294cf-58df-46a9-acc7-20ceb9ee570f",
   "metadata": {},
   "source": [
    "Generate response using LLM"
   ]
  },
  {
   "cell_type": "code",
   "execution_count": null,
   "id": "a52137ce-9e6e-46c5-91e4-1e49c96eacad",
   "metadata": {},
   "outputs": [],
   "source": [
    "from langchain import hub\n",
    "from langchain_core.output_parsers import StrOutputParser\n",
    "from langchain_core.runnables import RunnablePassthrough\n",
    "from langchain.globals import set_verbose\n",
    "from langchain.globals import set_debug\n",
    "\n",
    "#uncomment to see prompt info \n",
    "#set_debug(True)\n",
    "prompt = hub.pull(\"rlm/rag-prompt\")\n",
    "\n",
    "# human\n",
    "\n",
    "# [INST]<<SYS>> You are an assistant for question-answering tasks. Use the following pieces of retrieved context to answer the question. If you don't know the answer, just say that you don't know. Use three sentences maximum and keep the answer concise.<</SYS>> \n",
    "\n",
    "# Question: {question} \n",
    "\n",
    "# Context: {context} \n",
    "\n",
    "# Answer: [/INST]\n",
    "\n",
    "def format_docs(docs):\n",
    "    return \"\\n\\n\".join(doc.page_content for doc in docs)\n",
    "\n",
    "rag_chain = (\n",
    "    {\"context\": retriever | format_docs, \"question\": RunnablePassthrough()}\n",
    "    | prompt\n",
    "    | llm\n",
    "    | StrOutputParser()\n",
    ")\n",
    "\n",
    "rag_chain.invoke(\"What to do if I lost my multisport card?\")\n"
   ]
  },
  {
   "cell_type": "code",
   "execution_count": null,
   "id": "fc6f8368-1cf7-4b80-b050-270e6e947cf4",
   "metadata": {},
   "outputs": [],
   "source": [
    "rag_chain.invoke(\"What is the number for a dedicated Medicover contact?\")"
   ]
  },
  {
   "cell_type": "code",
   "execution_count": null,
   "id": "fa993a2c-cc6f-4cd5-bc19-0cf2bbd40447",
   "metadata": {},
   "outputs": [],
   "source": [
    "rag_chain.invoke(\"How do I add my family to Uniqua insurance?\")"
   ]
  },
  {
   "cell_type": "code",
   "execution_count": null,
   "id": "cdcc6c78-e247-4c2d-8b40-78dd2311b085",
   "metadata": {},
   "outputs": [],
   "source": [
    "rag_chain.invoke(\"How do I add my partner to Uniqua insurance?\")"
   ]
  },
  {
   "cell_type": "code",
   "execution_count": null,
   "id": "8951f4c2-734a-495b-bbf8-364d43db4237",
   "metadata": {},
   "outputs": [],
   "source": [
    "rag_chain.invoke(\"How long should I wait for a refund from Medicover?\")"
   ]
  }
 ],
 "metadata": {
  "kernelspec": {
   "display_name": "Python 3",
   "language": "python",
   "name": "python3"
  },
  "language_info": {
   "codemirror_mode": {
    "name": "ipython",
    "version": 3
   },
   "file_extension": ".py",
   "mimetype": "text/x-python",
   "name": "python",
   "nbconvert_exporter": "python",
   "pygments_lexer": "ipython3",
   "version": "3.11.9"
  },
  "toc": {
   "base_numbering": 1
  }
 },
 "nbformat": 4,
 "nbformat_minor": 5
}
